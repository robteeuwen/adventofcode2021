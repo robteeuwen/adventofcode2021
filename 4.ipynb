{
 "cells": [
  {
   "cell_type": "code",
   "execution_count": 188,
   "id": "07cf4377-8558-4d27-8344-75512081ecac",
   "metadata": {},
   "outputs": [],
   "source": [
    "import numpy as np"
   ]
  },
  {
   "cell_type": "code",
   "execution_count": 189,
   "id": "b9c17921-20f1-4e26-9beb-dfc231b81d37",
   "metadata": {},
   "outputs": [],
   "source": [
    "from aocd.models import Puzzle\n",
    "puzzle = Puzzle(year=2021, day=4)"
   ]
  },
  {
   "cell_type": "code",
   "execution_count": 190,
   "id": "075bac8b-888e-4efb-8e77-09e3f9e49fc4",
   "metadata": {},
   "outputs": [],
   "source": [
    "q = puzzle.input_data.split('\\n\\n')\n",
    "numbers_raw = q[0].split(',')\n",
    "\n",
    "# add 1 to the numbers, so we can use 0 for marked numbers \n",
    "numbers = [int(i)+1 for i in numbers_raw]\n",
    "boards_raw = q[1:]"
   ]
  },
  {
   "cell_type": "code",
   "execution_count": 191,
   "id": "c5be4848-5bcc-4330-aa2f-85d40dd4ca82",
   "metadata": {},
   "outputs": [],
   "source": [
    "def brd(lst):\n",
    "    # extract numbers from the string and make into a 1-d array\n",
    "    # add 1 to the numbers, so we can use 0 \n",
    "    a = np.array([int(s) for s in lst.split() if s.isdigit()]) + 1\n",
    "    \n",
    "    # reshape the array \n",
    "    return np.reshape(a,[5,5])"
   ]
  },
  {
   "cell_type": "code",
   "execution_count": 192,
   "id": "65d226de-053b-4ab2-af79-010e12a43a3f",
   "metadata": {},
   "outputs": [],
   "source": [
    "def isbingo(board):\n",
    "    # sum accross both axes, concatenate result and check if any are zero \n",
    "    return (np.concatenate([np.sum(board,axis=0),np.sum(board,axis=1)])==0).any()"
   ]
  },
  {
   "cell_type": "code",
   "execution_count": 193,
   "id": "2971dd8f-80fe-4e23-9471-3ae0204950ab",
   "metadata": {},
   "outputs": [],
   "source": [
    "def num_apply(b,n):\n",
    "    # apply one number to one board and check if it bingoes\n",
    "    b[b==n] = 0\n",
    "    return b"
   ]
  },
  {
   "cell_type": "code",
   "execution_count": 194,
   "id": "e9d21c6b-d95b-474d-8e78-b20d24e56126",
   "metadata": {},
   "outputs": [],
   "source": [
    "# process the raw boards into a list of boards\n",
    "boards = [brd(i) for i in boards_raw]"
   ]
  },
  {
   "cell_type": "code",
   "execution_count": 195,
   "id": "bea4e29e-f234-48de-b077-5623a4af7bf3",
   "metadata": {},
   "outputs": [
    {
     "name": "stdout",
     "output_type": "stream",
     "text": [
      "score: 29440\n",
      "score: 13884\n"
     ]
    }
   ],
   "source": [
    "bingoed = []\n",
    "\n",
    "# use a for loop instead of a list comprehension so we can break it when there's a bingo\n",
    "for n in numbers:\n",
    "    # apply the number to each board\n",
    "    boards = [num_apply(b,n) for b in boards]\n",
    "    \n",
    "    # check for bingo\n",
    "    bingo = np.array([isbingo(b) for b in boards])\n",
    "    \n",
    "    # find indices of all boards that have bingo\n",
    "    win_ix = np.where(bingo)[0]\n",
    "    new_winners = list(set(win_ix) - set(bingoed))\n",
    "    \n",
    "    if len(new_winners) > 0:    \n",
    "        winner = boards[new_winners[-1]]\n",
    "        bingoed.extend(new_winners)\n",
    "    \n",
    "        # calculate score if there is exactly one winning board\n",
    "        if (len(bingoed) == 1) | (len(bingoed) == len(boards)):\n",
    "            # grab indices of all boards that have bingo\n",
    "            win_ix = np.where(bingo)[0]\n",
    "\n",
    "            # grab the winning board to calculate the score\n",
    "            winner = boards[new_winners[-1]]\n",
    "\n",
    "            # don't forget to subtract 1 again\n",
    "            score = np.sum(winner[winner>0] - 1) * (n-1)\n",
    "            print('score: ' + str(score))"
   ]
  },
  {
   "cell_type": "code",
   "execution_count": null,
   "id": "536798e4-13eb-4a4b-bdcd-c92d98484234",
   "metadata": {},
   "outputs": [],
   "source": []
  }
 ],
 "metadata": {
  "kernelspec": {
   "display_name": "Python 3",
   "language": "python",
   "name": "python3"
  },
  "language_info": {
   "codemirror_mode": {
    "name": "ipython",
    "version": 3
   },
   "file_extension": ".py",
   "mimetype": "text/x-python",
   "name": "python",
   "nbconvert_exporter": "python",
   "pygments_lexer": "ipython3",
   "version": "3.8.8"
  }
 },
 "nbformat": 4,
 "nbformat_minor": 5
}
