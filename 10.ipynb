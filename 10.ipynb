{
 "cells": [
  {
   "cell_type": "raw",
   "id": "a5a79d8c-f80c-4381-afc5-e181d5e2fcf9",
   "metadata": {},
   "source": [
    "import numpy as np\n",
    "from aocd.models import Puzzle\n",
    "puzzle = Puzzle(year=2021, day=10)"
   ]
  },
  {
   "cell_type": "code",
   "execution_count": 2,
   "id": "fc11a391-38ac-477a-8510-225a8b8e22e3",
   "metadata": {},
   "outputs": [],
   "source": [
    "data = puzzle.input_data.split('\\n')\n",
    "tst = ['[({(<(())[]>[[{[]{<()<>>',\n",
    "       '[(()[<>])]({[<{<<[]>>(',\n",
    "       '{([(<{}[<>[]}>{[]{[(<()>',\n",
    "       '(((({<>}<{<{<>}{[]{[]{}',\n",
    "       '[[<[([]))<([[{}[[()]]]',\n",
    "       '[{[{({}]{}}([{[{{{}}([]',\n",
    "       '{<[[]]>}<{[{[{[]{()[[[]',\n",
    "       '[<(<(<(<{}))><([]([]()',\n",
    "       '<{([([[(<>()){}]>(<<{{',\n",
    "       '<{([{{}}[<[[[<>{}]]]>[]]']"
   ]
  },
  {
   "cell_type": "code",
   "execution_count": 3,
   "id": "7c6b029f-c285-4ccc-ab8e-bf5fd1e1999f",
   "metadata": {},
   "outputs": [],
   "source": [
    "def test_line(line,complete=False):\n",
    "    opened = []\n",
    "    for i in line:\n",
    "        # if it openes, append to opened\n",
    "        if i in '([{<':\n",
    "            opened.append(i)\n",
    "        else:\n",
    "            # it has to match the last opened\n",
    "            if (i == ')') & ~(opened[-1] == '('):\n",
    "                if complete:\n",
    "                    return 0\n",
    "                else:\n",
    "                    return 3\n",
    "            if (i == ']') & ~(opened[-1] == '['):\n",
    "                if complete:\n",
    "                    return 0\n",
    "                else:\n",
    "                    return 57\n",
    "            if (i == '}') & ~(opened[-1] == '{'):\n",
    "                if complete:\n",
    "                    return 0\n",
    "                else:\n",
    "                    return 1197\n",
    "            if (i == '>') & ~(opened[-1] == '<'):\n",
    "                if complete:\n",
    "                    return 0\n",
    "                else:\n",
    "                    return 25137\n",
    "            else:\n",
    "                opened.pop()\n",
    "    if complete:\n",
    "        opened.reverse()\n",
    "        return get_score(opened)\n",
    "    else:\n",
    "        return 0"
   ]
  },
  {
   "cell_type": "code",
   "execution_count": 4,
   "id": "89e69868-e0e2-4710-bd47-e75c3bd8b7fb",
   "metadata": {},
   "outputs": [],
   "source": [
    "def get_score(closing):\n",
    "    lst = '([{<'\n",
    "    score = 0 \n",
    "    for i in closing:\n",
    "        score = score * 5\n",
    "        score = score + lst.find(i)+1\n",
    "    return score"
   ]
  },
  {
   "cell_type": "code",
   "execution_count": 5,
   "id": "383db6e7-47a6-4a68-a5d6-bfc99d563f2e",
   "metadata": {},
   "outputs": [],
   "source": [
    "lines = data"
   ]
  },
  {
   "cell_type": "code",
   "execution_count": 6,
   "id": "20c5a485-7b81-4ab5-949b-0f871f4323e4",
   "metadata": {},
   "outputs": [],
   "source": [
    "points = [test_line(line,False) for line in lines]"
   ]
  },
  {
   "cell_type": "code",
   "execution_count": 7,
   "id": "082f450b-cc6b-49ed-956f-8cc82d0f9941",
   "metadata": {},
   "outputs": [
    {
     "data": {
      "text/plain": [
       "392367"
      ]
     },
     "execution_count": 7,
     "metadata": {},
     "output_type": "execute_result"
    }
   ],
   "source": [
    "np.sum(points)"
   ]
  },
  {
   "cell_type": "code",
   "execution_count": null,
   "id": "655a8ea7-ce8c-44c2-a650-54fa7e5418ec",
   "metadata": {},
   "outputs": [],
   "source": [
    "# part 2"
   ]
  },
  {
   "cell_type": "code",
   "execution_count": 8,
   "id": "df16e09f-41c4-446b-bc8c-691933b94a51",
   "metadata": {},
   "outputs": [],
   "source": [
    "points = [test_line(line,True) for line in lines]"
   ]
  },
  {
   "cell_type": "code",
   "execution_count": 10,
   "id": "e0425674-98f6-4454-81fa-eb84d65c56f1",
   "metadata": {},
   "outputs": [],
   "source": [
    "q = np.array(points)"
   ]
  },
  {
   "cell_type": "code",
   "execution_count": 11,
   "id": "1356b110-6232-46fb-9c9b-448d6a5cae2b",
   "metadata": {},
   "outputs": [],
   "source": [
    "q = q[q != 0]\n",
    "q.sort()"
   ]
  },
  {
   "cell_type": "code",
   "execution_count": 12,
   "id": "ba1bb289-1e0f-4e05-95e3-9f8faa2154fe",
   "metadata": {},
   "outputs": [
    {
     "data": {
      "text/plain": [
       "2192104158"
      ]
     },
     "execution_count": 12,
     "metadata": {},
     "output_type": "execute_result"
    }
   ],
   "source": [
    "q[int(np.ceil(len(q)/2))-1]"
   ]
  },
  {
   "cell_type": "code",
   "execution_count": null,
   "id": "526a5bbd-d05d-416e-bc57-36b598610223",
   "metadata": {},
   "outputs": [],
   "source": []
  }
 ],
 "metadata": {
  "kernelspec": {
   "display_name": "Python 3",
   "language": "python",
   "name": "python3"
  },
  "language_info": {
   "codemirror_mode": {
    "name": "ipython",
    "version": 3
   },
   "file_extension": ".py",
   "mimetype": "text/x-python",
   "name": "python",
   "nbconvert_exporter": "python",
   "pygments_lexer": "ipython3",
   "version": "3.8.8"
  }
 },
 "nbformat": 4,
 "nbformat_minor": 5
}
