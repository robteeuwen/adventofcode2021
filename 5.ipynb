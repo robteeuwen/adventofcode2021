{
 "cells": [
  {
   "cell_type": "code",
   "execution_count": 7,
   "id": "cd4fe059-f095-4842-976d-d6a295d903e4",
   "metadata": {},
   "outputs": [],
   "source": [
    "import numpy as np\n",
    "import pandas as pd"
   ]
  },
  {
   "cell_type": "code",
   "execution_count": 8,
   "id": "1d5623c9-a71e-47ee-872b-600a97ced82a",
   "metadata": {},
   "outputs": [],
   "source": [
    "from aocd.models import Puzzle\n",
    "puzzle = Puzzle(year=2021, day=5)"
   ]
  },
  {
   "cell_type": "code",
   "execution_count": 158,
   "id": "c0251014-8da1-4769-831a-31256d5d92e0",
   "metadata": {},
   "outputs": [
    {
     "data": {
      "text/html": [
       "<div>\n",
       "<style scoped>\n",
       "    .dataframe tbody tr th:only-of-type {\n",
       "        vertical-align: middle;\n",
       "    }\n",
       "\n",
       "    .dataframe tbody tr th {\n",
       "        vertical-align: top;\n",
       "    }\n",
       "\n",
       "    .dataframe thead th {\n",
       "        text-align: right;\n",
       "    }\n",
       "</style>\n",
       "<table border=\"1\" class=\"dataframe\">\n",
       "  <thead>\n",
       "    <tr style=\"text-align: right;\">\n",
       "      <th></th>\n",
       "      <th>x1</th>\n",
       "      <th>y1</th>\n",
       "      <th>x2</th>\n",
       "      <th>y2</th>\n",
       "    </tr>\n",
       "  </thead>\n",
       "  <tbody>\n",
       "    <tr>\n",
       "      <th>0</th>\n",
       "      <td>957</td>\n",
       "      <td>596</td>\n",
       "      <td>957</td>\n",
       "      <td>182</td>\n",
       "    </tr>\n",
       "    <tr>\n",
       "      <th>1</th>\n",
       "      <td>763</td>\n",
       "      <td>144</td>\n",
       "      <td>69</td>\n",
       "      <td>144</td>\n",
       "    </tr>\n",
       "    <tr>\n",
       "      <th>2</th>\n",
       "      <td>761</td>\n",
       "      <td>794</td>\n",
       "      <td>911</td>\n",
       "      <td>944</td>\n",
       "    </tr>\n",
       "    <tr>\n",
       "      <th>3</th>\n",
       "      <td>510</td>\n",
       "      <td>440</td>\n",
       "      <td>147</td>\n",
       "      <td>440</td>\n",
       "    </tr>\n",
       "    <tr>\n",
       "      <th>4</th>\n",
       "      <td>859</td>\n",
       "      <td>33</td>\n",
       "      <td>859</td>\n",
       "      <td>409</td>\n",
       "    </tr>\n",
       "  </tbody>\n",
       "</table>\n",
       "</div>"
      ],
      "text/plain": [
       "    x1   y1   x2   y2\n",
       "0  957  596  957  182\n",
       "1  763  144   69  144\n",
       "2  761  794  911  944\n",
       "3  510  440  147  440\n",
       "4  859   33  859  409"
      ]
     },
     "execution_count": 158,
     "metadata": {},
     "output_type": "execute_result"
    }
   ],
   "source": [
    "tst_ = '0,9 -> 5,9\\n8,0 -> 0,8\\n9,4 -> 3,4\\n2,2 -> 2,1\\n7,0 -> 7,4\\n6,4 -> 2,0\\n0,9 -> 2,9\\n3,4 -> 1,4\\n0,0 -> 8,8\\n5,5 -> 8,2'\n",
    "\n",
    "data = puzzle.input_data\n",
    "\n",
    "def preprocess(data):\n",
    "    df = (pd.Series(data.split('\\n'))\n",
    "            .str.split(' -> ', expand=True))\n",
    "\n",
    "    df['x1'] = df[0].str.split(',',expand=True)[0].astype(int)\n",
    "    df['y1'] = df[0].str.split(',',expand=True)[1].astype(int)\n",
    "    df['x2'] = df[1].str.split(',',expand=True)[0].astype(int)\n",
    "    df['y2'] = df[1].str.split(',',expand=True)[1].astype(int)\n",
    "\n",
    "    return df.drop(columns=[0,1])\n",
    "\n",
    "df = preprocess(data)\n",
    "df.head()"
   ]
  },
  {
   "cell_type": "code",
   "execution_count": 200,
   "id": "3273e089-3236-414e-b5c2-fb1dddb43f54",
   "metadata": {},
   "outputs": [],
   "source": [
    "def make_matrix(df):\n",
    "    x = np.max([df.x1.max(),df.x2.max()])\n",
    "    y = np.max([df.y1.max(),df.y2.max()])\n",
    "    m = np.zeros((y+1,x+1))\n",
    "    return m\n",
    "\n",
    "def do(i,do_diagonal=False): \n",
    "    y1 = np.min([i['y1'],i['y2']])\n",
    "    y2 = np.max([i['y1'],i['y2']])\n",
    "    x1 = np.min([i['x1'],i['x2']])\n",
    "    x2 = np.max([i['x1'],i['x2']])\n",
    "    \n",
    "    # check if it's horizontal or vertial \n",
    "    if (x1 == x2):\n",
    "        # add 1 for second coordinates because of the way numpy indexes\n",
    "        m[y1:y2+1,x1] = m[y1:y2+1,x1] + 1\n",
    "    elif (y1 == y2):\n",
    "        m[y1,x1:x2+1] = m[y1,x1:x2+1] + 1\n",
    "    elif do_diagonal:\n",
    "        # check if the line goes up or down\n",
    "        sign_x = (i['x1'] - i['x2']) > 0\n",
    "        sign_y = (i['y1'] - i['y2']) > 0\n",
    "        if sign_x == sign_y:\n",
    "            line = np.eye(y2-y1+1)\n",
    "        else: \n",
    "            line = np.rot90(np.eye(y2-y1+1))\n",
    "        m[y1:y2+1,x1:x2+1] = m[y1:y2+1,x1:x2+1] + line\n",
    "        "
   ]
  },
  {
   "cell_type": "code",
   "execution_count": 201,
   "id": "65afbf50-44ac-4687-b24d-0bb69115d253",
   "metadata": {},
   "outputs": [
    {
     "data": {
      "text/plain": [
       "6311"
      ]
     },
     "execution_count": 201,
     "metadata": {},
     "output_type": "execute_result"
    }
   ],
   "source": [
    "# make a matrix\n",
    "m = make_matrix(df)\n",
    "\n",
    "# fill in the lines\n",
    "[do(i) for i in df.to_dict('records')]\n",
    "\n",
    "# get points bigger than 1\n",
    "np.sum(m > 1)"
   ]
  },
  {
   "cell_type": "code",
   "execution_count": 170,
   "id": "6ecc7fc0-6207-458b-8e09-edf4c7dd7503",
   "metadata": {},
   "outputs": [],
   "source": [
    "tmp = preprocess(tst_)"
   ]
  },
  {
   "cell_type": "code",
   "execution_count": 205,
   "id": "62bc98a3-60c6-48d4-81d8-f0c1838c9346",
   "metadata": {},
   "outputs": [
    {
     "data": {
      "text/plain": [
       "19929"
      ]
     },
     "execution_count": 205,
     "metadata": {},
     "output_type": "execute_result"
    }
   ],
   "source": [
    "# second question \n",
    "m = make_matrix(df)\n",
    "\n",
    "[do(i,do_diagonal=True) for i in df.to_dict('records')]\n",
    "\n",
    "np.sum(m > 1)"
   ]
  },
  {
   "cell_type": "code",
   "execution_count": null,
   "id": "524562aa-c075-4269-a856-bbf2be7886b3",
   "metadata": {},
   "outputs": [],
   "source": []
  }
 ],
 "metadata": {
  "kernelspec": {
   "display_name": "Python 3",
   "language": "python",
   "name": "python3"
  },
  "language_info": {
   "codemirror_mode": {
    "name": "ipython",
    "version": 3
   },
   "file_extension": ".py",
   "mimetype": "text/x-python",
   "name": "python",
   "nbconvert_exporter": "python",
   "pygments_lexer": "ipython3",
   "version": "3.8.8"
  }
 },
 "nbformat": 4,
 "nbformat_minor": 5
}
