{
 "cells": [
  {
   "cell_type": "code",
   "execution_count": 1,
   "id": "fd52eafa-bc5a-4dc1-b8c0-b4bcbad8dae6",
   "metadata": {},
   "outputs": [],
   "source": [
    "import numpy as np\n",
    "from aocd.models import Puzzle\n",
    "puzzle = Puzzle(year=2021, day=11)"
   ]
  },
  {
   "cell_type": "code",
   "execution_count": 2,
   "id": "c7f25cc8-6a05-44a7-b780-29c5904070cc",
   "metadata": {},
   "outputs": [],
   "source": [
    "data = puzzle.input_data"
   ]
  },
  {
   "cell_type": "code",
   "execution_count": 3,
   "id": "6c3e4725-f77c-4b25-a837-3ca74267c960",
   "metadata": {},
   "outputs": [],
   "source": [
    "ar = puzzle.input_data.split('\\n')\n",
    "data = np.array([list(row) for row in ar]).astype(int)"
   ]
  },
  {
   "cell_type": "code",
   "execution_count": 4,
   "id": "44bb8882-1347-47d4-a7c7-16afbbf6ed1c",
   "metadata": {},
   "outputs": [],
   "source": [
    "tst = np.array([[1,1,1,1,1],\n",
    "[1,9,9,9,1],\n",
    "[1,9,1,9,1],\n",
    "[1,9,9,9,1],\n",
    "[1,1,1,1,1]])"
   ]
  },
  {
   "cell_type": "code",
   "execution_count": 5,
   "id": "d3dc73bf-0d95-42a4-ac2e-0d8f156e76cd",
   "metadata": {},
   "outputs": [],
   "source": [
    "tst = np.array([[5,4,8,3,1,4,3,2,2,3],\n",
    "[2,7,4,5,8,5,4,7,1,1],\n",
    "[5,2,6,4,5,5,6,1,7,3],\n",
    "[6,1,4,1,3,3,6,1,4,6],\n",
    "[6,3,5,7,3,8,5,4,7,8],\n",
    "[4,1,6,7,5,2,4,6,4,5],\n",
    "[2,1,7,6,8,4,1,7,2,1],\n",
    "[6,8,8,2,8,8,1,1,3,4],\n",
    "[4,8,4,6,8,4,8,5,5,4],\n",
    "[5,2,8,3,7,5,1,5,2,6]])"
   ]
  },
  {
   "cell_type": "code",
   "execution_count": 6,
   "id": "8a0bb5d7-36f2-4849-807e-a44396d37a28",
   "metadata": {},
   "outputs": [],
   "source": [
    "def spread_adj(inp, r, c):\n",
    "    rr = np.arange(r - 1, r + 2)\n",
    "    cc = np.arange(c - 1, c + 2)\n",
    "\n",
    "    within = (cc > -1) & (cc < inp.shape[0])\n",
    "    cc = cc[within]\n",
    "    within = (rr > -1) & (rr < inp.shape[1])\n",
    "    rr = rr[within]\n",
    "\n",
    "    inp[np.min(rr):(np.max(rr)+1),np.min(cc):(np.max(cc)+1)] += 1\n",
    "\n",
    "    return inp"
   ]
  },
  {
   "cell_type": "code",
   "execution_count": 10,
   "id": "bda69510-1873-4acd-96f7-518ad7d26cd2",
   "metadata": {},
   "outputs": [],
   "source": [
    "def flashers(inp,numsteps):\n",
    "    flashes = []\n",
    "    for step in range(numsteps):\n",
    "        if (step/100) == np.round(step/100):\n",
    "            print(str(step) + '...')\n",
    "\n",
    "        inp = inp + 1\n",
    "\n",
    "        # initialize empty flash collectors for this step\n",
    "        fr = []\n",
    "        fc = []\n",
    "\n",
    "        # get initial flashers\n",
    "        r,c = np.where(inp > 9)\n",
    "\n",
    "        while len(r) > 0:\n",
    "            fr.extend(r)\n",
    "            fc.extend(c)\n",
    "\n",
    "            # loop those flashers and see which others they ignite\n",
    "            for i in range(len(r)):\n",
    "                inp = spread_adj(inp,r[i],c[i])\n",
    "\n",
    "            # reset all the points that flashed so far in this step\n",
    "            inp[fr,fc] = 0\n",
    "\n",
    "            # find points about to flash\n",
    "            r, c = np.where(inp > 9)\n",
    "\n",
    "        # store the total number of flashes for this step\n",
    "        flashes.append(len(fr))\n",
    "\n",
    "        # if all points are the same, print step number \n",
    "        if len(np.unique(inp)) == 1:\n",
    "            print('all the same at the beginning of step: ' + str(step+1))\n",
    "            break\n",
    "\n",
    "    print(np.sum(flashes))"
   ]
  },
  {
   "cell_type": "code",
   "execution_count": 11,
   "id": "6c0f521f-9416-4127-b032-b453f276be56",
   "metadata": {},
   "outputs": [
    {
     "name": "stdout",
     "output_type": "stream",
     "text": [
      "0...\n",
      "1694\n"
     ]
    }
   ],
   "source": [
    "flashers(data,100)"
   ]
  },
  {
   "cell_type": "code",
   "execution_count": 12,
   "id": "304f2dec-6ac5-4735-9060-c2943c863e01",
   "metadata": {},
   "outputs": [
    {
     "name": "stdout",
     "output_type": "stream",
     "text": [
      "0...\n",
      "100...\n",
      "200...\n",
      "300...\n",
      "all the same at the beginning of step: 346\n",
      "5637\n"
     ]
    }
   ],
   "source": [
    "# part two\n",
    "flashers(data,1000)"
   ]
  },
  {
   "cell_type": "code",
   "execution_count": null,
   "id": "8449f229-de5e-4991-a903-648d06a3f7be",
   "metadata": {},
   "outputs": [],
   "source": []
  }
 ],
 "metadata": {
  "kernelspec": {
   "display_name": "Python 3",
   "language": "python",
   "name": "python3"
  },
  "language_info": {
   "codemirror_mode": {
    "name": "ipython",
    "version": 3
   },
   "file_extension": ".py",
   "mimetype": "text/x-python",
   "name": "python",
   "nbconvert_exporter": "python",
   "pygments_lexer": "ipython3",
   "version": "3.8.8"
  }
 },
 "nbformat": 4,
 "nbformat_minor": 5
}
