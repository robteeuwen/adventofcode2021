{
 "cells": [
  {
   "cell_type": "code",
   "execution_count": 1,
   "id": "3b828818-2a9a-4bc9-b243-ac3b3652e222",
   "metadata": {},
   "outputs": [],
   "source": [
    "import pandas as pd\n",
    "import numpy as np"
   ]
  },
  {
   "cell_type": "code",
   "execution_count": 2,
   "id": "2ac4fa4f-e9a3-4b3c-a907-b49889de95f2",
   "metadata": {},
   "outputs": [],
   "source": [
    "from aocd.models import Puzzle\n",
    "puzzle = Puzzle(year=2021, day=9)"
   ]
  },
  {
   "cell_type": "code",
   "execution_count": 3,
   "id": "20597196-634e-41a5-afa0-71cdb12cf8e5",
   "metadata": {},
   "outputs": [],
   "source": [
    "ar = puzzle.input_data.split('\\n')\n",
    "data = np.array([list(row) for row in ar]).astype(int)"
   ]
  },
  {
   "cell_type": "code",
   "execution_count": 4,
   "id": "001f2b05-4261-4a64-a948-5d1076036629",
   "metadata": {},
   "outputs": [],
   "source": [
    "tst = np.array([[2,1,9,9,9,4,3,2,1,0],\n",
    "[3,9,8,7,8,9,4,9,2,1],\n",
    "[9,8,5,6,7,8,9,8,9,2],\n",
    "[8,7,6,7,8,9,6,7,8,9],\n",
    "[9,8,9,9,9,6,5,6,7,8]])"
   ]
  },
  {
   "cell_type": "code",
   "execution_count": 5,
   "id": "b9822aa5-4dc8-45c2-a8bb-0790ff58007b",
   "metadata": {},
   "outputs": [],
   "source": [
    "def is_lowest(inp,x,y):\n",
    "    a = inp[y-1,x] if y-1 >= 0 else 10\n",
    "    b = inp[y,x-1] if x-1 >= 0 else 10\n",
    "    c = inp[y,x+1] if x+1 < inp.shape[1] else 10\n",
    "    d = inp[y+1,x] if y+1 < inp.shape[0] else 10\n",
    "    \n",
    "    p = inp[y,x]\n",
    "    \n",
    "    if (p < a) & (p < b) & (p < c) & (p < d):\n",
    "        return True\n",
    "    else:\n",
    "        return False"
   ]
  },
  {
   "cell_type": "code",
   "execution_count": 6,
   "id": "c31c3e97-3c3e-4c14-937a-01a6e4437d74",
   "metadata": {},
   "outputs": [
    {
     "data": {
      "text/plain": [
       "True"
      ]
     },
     "execution_count": 6,
     "metadata": {},
     "output_type": "execute_result"
    }
   ],
   "source": [
    "is_lowest(tst,1,0)"
   ]
  },
  {
   "cell_type": "code",
   "execution_count": 7,
   "id": "cebd4a14-30d0-447b-b8a9-e13d34575253",
   "metadata": {},
   "outputs": [],
   "source": [
    "inp = data\n",
    "lev = np.zeros(inp.shape)"
   ]
  },
  {
   "cell_type": "code",
   "execution_count": 8,
   "id": "5094f916-a508-4165-8894-7cd6ac87ab5f",
   "metadata": {},
   "outputs": [
    {
     "data": {
      "text/plain": [
       "580.0"
      ]
     },
     "execution_count": 8,
     "metadata": {},
     "output_type": "execute_result"
    }
   ],
   "source": [
    "for r in range(lev.shape[0]):\n",
    "    for c in range(lev.shape[1]):\n",
    "        lev[r,c] = is_lowest(inp,c,r)\n",
    "        \n",
    "np.sum(lev * inp) + np.sum(lev==1) "
   ]
  },
  {
   "cell_type": "code",
   "execution_count": null,
   "id": "c9c066d8-c0a2-4f53-9bf0-e8731e036008",
   "metadata": {},
   "outputs": [],
   "source": []
  },
  {
   "cell_type": "code",
   "execution_count": 9,
   "id": "4378cf03-987f-4e12-939b-707453064465",
   "metadata": {},
   "outputs": [],
   "source": [
    "# second part"
   ]
  },
  {
   "cell_type": "code",
   "execution_count": 10,
   "id": "92abb22c-9639-4698-9cd5-b6d3e6de340a",
   "metadata": {},
   "outputs": [],
   "source": [
    "np.where(lev)\n",
    "lowy = np.where(lev)[0]\n",
    "lowx = np.where(lev)[1]"
   ]
  },
  {
   "cell_type": "code",
   "execution_count": 11,
   "id": "9ad4418c-7b0d-4d9a-85c3-7ef20e7a351f",
   "metadata": {},
   "outputs": [],
   "source": [
    "def find_adjacent_nonnines(inp,y,x):\n",
    "    a = inp[y-1,x] if y-1 >= 0 else 9\n",
    "    b = inp[y,x-1] if x-1 >= 0 else 9\n",
    "    c = inp[y,x+1] if x+1 < inp.shape[1] else 9\n",
    "    d = inp[y+1,x] if y+1 < inp.shape[0] else 9\n",
    "    \n",
    "    outr = []\n",
    "    outc = []\n",
    "    \n",
    "    if (a < 9):\n",
    "        outc.append(x)\n",
    "        outr.append(y - 1)\n",
    "    if (b < 9):\n",
    "        outc.append(x - 1)\n",
    "        outr.append(y)\n",
    "    if (c < 9):\n",
    "        outc.append(x + 1)\n",
    "        outr.append(y)\n",
    "    if (d < 9):\n",
    "        outc.append(x)\n",
    "        outr.append(y + 1)\n",
    "    \n",
    "    return outc,outr"
   ]
  },
  {
   "cell_type": "code",
   "execution_count": 12,
   "id": "1744cb43-eeb2-4473-8763-019febb609c6",
   "metadata": {},
   "outputs": [],
   "source": [
    "def grow_basin(inp,r,c):\n",
    "    # start with the lowest point\n",
    "    doc = [c]\n",
    "    dor = [r]\n",
    "    inp_new = inp.copy()\n",
    "    \n",
    "    # initialize variables to contain basin x and y points, include the starting point\n",
    "    basinc = [c]\n",
    "    basinr = [r]\n",
    "    \n",
    "    while len(doc) > 0:\n",
    "        for i in range(len(dor)):\n",
    "            r2 = dor[i]\n",
    "            c2 = doc[i]\n",
    "\n",
    "            bc, br = find_adjacent_nonnines(inp_new, r2, c2)\n",
    "\n",
    "            if bc:\n",
    "                basinc.extend(bc)\n",
    "                basinr.extend(br)\n",
    "                # set newly found basin-points to 10\n",
    "                inp_new[br, bc] = 10\n",
    "\n",
    "        # set basin points that we just used to 11 \n",
    "        inp_new[dor,doc] = 11\n",
    "        \n",
    "        # points equal to 10 are points we just found \n",
    "        doc = np.where(inp_new == 10)[1]\n",
    "        dor = np.where(inp_new == 10)[0]\n",
    "\n",
    "    return basinc,basinr"
   ]
  },
  {
   "cell_type": "code",
   "execution_count": 13,
   "id": "35233419-56dc-45fc-95f8-cdb2c495f5db",
   "metadata": {},
   "outputs": [],
   "source": [
    "sizes = []\n",
    "for i in range(len(lowy)):\n",
    "    r = lowy[i]\n",
    "    c = lowx[i]\n",
    "    cc, rr = grow_basin(inp,r,c)\n",
    "\n",
    "    basinsize = len(cc)\n",
    "    sizes.append(basinsize)"
   ]
  },
  {
   "cell_type": "code",
   "execution_count": 14,
   "id": "72e063cb-9a9b-4839-8a83-40c1df464880",
   "metadata": {},
   "outputs": [],
   "source": [
    "sizes.sort()"
   ]
  },
  {
   "cell_type": "code",
   "execution_count": 15,
   "id": "4005e423-a956-40a5-9d1a-db84f14b102c",
   "metadata": {},
   "outputs": [
    {
     "data": {
      "text/plain": [
       "856716"
      ]
     },
     "execution_count": 15,
     "metadata": {},
     "output_type": "execute_result"
    }
   ],
   "source": [
    "np.prod(sizes[-3:])"
   ]
  },
  {
   "cell_type": "code",
   "execution_count": 17,
   "id": "bc9f32a4-76a6-43dc-b217-6d2e613e2a19",
   "metadata": {},
   "outputs": [
    {
     "data": {
      "text/plain": [
       "array([[2, 1, 9, 9, 9, 4, 3, 2, 1, 0],\n",
       "       [3, 9, 8, 7, 8, 9, 4, 9, 2, 1],\n",
       "       [9, 8, 5, 6, 7, 8, 9, 8, 9, 2],\n",
       "       [8, 7, 6, 7, 8, 9, 6, 7, 8, 9],\n",
       "       [9, 8, 9, 9, 9, 6, 5, 6, 7, 8]])"
      ]
     },
     "execution_count": 17,
     "metadata": {},
     "output_type": "execute_result"
    }
   ],
   "source": [
    "tst"
   ]
  },
  {
   "cell_type": "code",
   "execution_count": null,
   "id": "f8167868-7c3e-4346-b038-04fe279b4c6c",
   "metadata": {},
   "outputs": [],
   "source": []
  }
 ],
 "metadata": {
  "kernelspec": {
   "display_name": "Python 3",
   "language": "python",
   "name": "python3"
  },
  "language_info": {
   "codemirror_mode": {
    "name": "ipython",
    "version": 3
   },
   "file_extension": ".py",
   "mimetype": "text/x-python",
   "name": "python",
   "nbconvert_exporter": "python",
   "pygments_lexer": "ipython3",
   "version": "3.8.8"
  }
 },
 "nbformat": 4,
 "nbformat_minor": 5
}
