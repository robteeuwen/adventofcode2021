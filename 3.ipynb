{
 "cells": [
  {
   "cell_type": "code",
   "execution_count": 1,
   "id": "c7bd226c-ab91-4cd9-843d-00a29ae147e6",
   "metadata": {},
   "outputs": [],
   "source": [
    "import pandas as pd\n",
    "import numpy as np"
   ]
  },
  {
   "cell_type": "code",
   "execution_count": 2,
   "id": "0601b860-8873-40bb-b7c6-0afe2f6463c6",
   "metadata": {},
   "outputs": [],
   "source": [
    "from aocd.models import Puzzle\n",
    "puzzle = Puzzle(year=2021, day=3)"
   ]
  },
  {
   "cell_type": "code",
   "execution_count": 75,
   "id": "f0ca9e47-8186-4934-bb8d-da3714d48cfc",
   "metadata": {},
   "outputs": [],
   "source": [
    "ar = puzzle.input_data.split('\\n')\n",
    "data = np.array([list(row) for row in ar]).astype(int)"
   ]
  },
  {
   "cell_type": "code",
   "execution_count": 76,
   "id": "0a66865d-2914-43f1-85d0-320bc2a1fcde",
   "metadata": {},
   "outputs": [],
   "source": [
    "bnum = np.round(np.mean(data,axis=0)).astype(int)"
   ]
  },
  {
   "cell_type": "code",
   "execution_count": 77,
   "id": "d8db9980-2d75-4181-99ff-8b15f1abd77b",
   "metadata": {},
   "outputs": [],
   "source": [
    "gamma = int(''.join(bnum.astype(str)),2)"
   ]
  },
  {
   "cell_type": "code",
   "execution_count": 78,
   "id": "403c9ab6-3e3a-4c14-a8e1-a4d6cfdd48cf",
   "metadata": {},
   "outputs": [],
   "source": [
    "epsilon = int(''.join((bnum*-1+1).astype(str)),2)"
   ]
  },
  {
   "cell_type": "code",
   "execution_count": 79,
   "id": "7987d3a7-5c7d-4044-95ad-b21c2adedc39",
   "metadata": {},
   "outputs": [
    {
     "data": {
      "text/plain": [
       "2035764"
      ]
     },
     "execution_count": 79,
     "metadata": {},
     "output_type": "execute_result"
    }
   ],
   "source": [
    "gamma * epsilon"
   ]
  },
  {
   "cell_type": "code",
   "execution_count": 142,
   "id": "3f88bb51-cb43-45b3-88fe-28deca391a62",
   "metadata": {},
   "outputs": [],
   "source": [
    "# part 2"
   ]
  },
  {
   "cell_type": "code",
   "execution_count": 145,
   "id": "5c4711f8-0c26-411c-a68f-00e340429b60",
   "metadata": {},
   "outputs": [],
   "source": [
    "def compute(inp,oxy=1):\n",
    "    # loop positions\n",
    "    for pos in np.arange(inp.shape[1]):\n",
    "        # check if we still have more than one number\n",
    "        if inp.shape[0] < 2:\n",
    "            break\n",
    "        \n",
    "        # calculate the mean in the currently considered position\n",
    "        mn = np.mean(inp[:,pos])\n",
    "\n",
    "        # round it with special round\n",
    "        #r = rnd(mn,oxy)\n",
    "        r = np.round(mn+1)-1 # numpy rounds down 0.5 and up 1.5\n",
    "        if not oxy:\n",
    "            r = r*-1+1 # invert  \n",
    "\n",
    "        # remove other numbers\n",
    "        keep = inp[:,pos] == r\n",
    "        inp = inp[keep,:]\n",
    "    \n",
    "    if inp.shape[0] == 1:\n",
    "        solution = int(''.join(inp[0].astype(str)),2)\n",
    "        print('solution: ' + str(solution))\n",
    "        return solution\n",
    "    else: \n",
    "        print('there is more than 1 number left')"
   ]
  },
  {
   "cell_type": "code",
   "execution_count": 146,
   "id": "057c4f55-70e2-4b78-91a0-851a02200f02",
   "metadata": {},
   "outputs": [
    {
     "name": "stdout",
     "output_type": "stream",
     "text": [
      "solution: 3311\n",
      "solution: 851\n",
      "life support rating: 2817661\n"
     ]
    }
   ],
   "source": [
    "inp = data\n",
    "oxy = compute(inp)\n",
    "co2 = compute(inp,False)\n",
    "print('life support rating: ' + str(oxy*co2))"
   ]
  },
  {
   "cell_type": "code",
   "execution_count": null,
   "id": "aa5d13ab-627f-4b34-b35b-3904069c1761",
   "metadata": {},
   "outputs": [],
   "source": []
  }
 ],
 "metadata": {
  "kernelspec": {
   "display_name": "Python 3",
   "language": "python",
   "name": "python3"
  },
  "language_info": {
   "codemirror_mode": {
    "name": "ipython",
    "version": 3
   },
   "file_extension": ".py",
   "mimetype": "text/x-python",
   "name": "python",
   "nbconvert_exporter": "python",
   "pygments_lexer": "ipython3",
   "version": "3.8.8"
  }
 },
 "nbformat": 4,
 "nbformat_minor": 5
}
