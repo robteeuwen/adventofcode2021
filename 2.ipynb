{
 "cells": [
  {
   "cell_type": "code",
   "execution_count": 223,
   "id": "820369ef-c522-4f72-959b-4331f71422be",
   "metadata": {},
   "outputs": [],
   "source": [
    "import pandas as pd"
   ]
  },
  {
   "cell_type": "code",
   "execution_count": 224,
   "id": "d0968f43-7b9c-4a05-92fe-681d6507187b",
   "metadata": {},
   "outputs": [],
   "source": [
    "from aocd.models import Puzzle\n",
    "puzzle = Puzzle(year=2021, day=2)"
   ]
  },
  {
   "cell_type": "code",
   "execution_count": 225,
   "id": "0706cdc0-2203-4198-aa8d-ccdd2b01d726",
   "metadata": {},
   "outputs": [],
   "source": [
    "# puzzle data\n",
    "data = pd.Series(puzzle.input_data.split('\\n'))\n",
    "\n",
    "# test data \n",
    "tst = pd.Series([\n",
    "    'forward 5',\n",
    "    'down 5',\n",
    "    'forward 8',\n",
    "    'up 3',\n",
    "    'down 8',\n",
    "    'forward 2'\n",
    "])"
   ]
  },
  {
   "cell_type": "code",
   "execution_count": 226,
   "id": "bfbd602e-dabf-435f-ae90-c6421edcc287",
   "metadata": {},
   "outputs": [],
   "source": [
    "def preprocess(data):\n",
    "    df = data.copy().str.split(' ',1,expand=True).rename(columns={0:'dir',1:'num'})\n",
    "    df.num = df.num.astype(int)\n",
    "    return df"
   ]
  },
  {
   "cell_type": "code",
   "execution_count": 227,
   "id": "a45ec81a-6976-436c-923a-10909c478b34",
   "metadata": {},
   "outputs": [],
   "source": [
    "df = preprocess(data)"
   ]
  },
  {
   "cell_type": "code",
   "execution_count": 228,
   "id": "0fff647e-7e89-428e-a12c-90ba00ac1e83",
   "metadata": {},
   "outputs": [],
   "source": [
    "horizontal = df.num[df.dir=='forward'].sum()"
   ]
  },
  {
   "cell_type": "code",
   "execution_count": 229,
   "id": "0d1c2ce0-cd73-4a8e-b4ab-59fe3b371eab",
   "metadata": {},
   "outputs": [],
   "source": [
    "depth = df.num[df.dir=='down'].sum() - df.num[df.dir=='up'].sum()"
   ]
  },
  {
   "cell_type": "code",
   "execution_count": 230,
   "id": "3c9f3081-ea43-4038-a748-0a1277acfc6c",
   "metadata": {},
   "outputs": [
    {
     "data": {
      "text/plain": [
       "1804520"
      ]
     },
     "execution_count": 230,
     "metadata": {},
     "output_type": "execute_result"
    }
   ],
   "source": [
    "depth * horizontal"
   ]
  },
  {
   "cell_type": "code",
   "execution_count": 231,
   "id": "ebe2e6ab-eb27-432c-9f8b-e8df52618dd3",
   "metadata": {},
   "outputs": [],
   "source": [
    "# 2"
   ]
  },
  {
   "cell_type": "code",
   "execution_count": 232,
   "id": "b960d086-64a1-4a63-b6f9-7f03f3906a87",
   "metadata": {},
   "outputs": [],
   "source": [
    "tmp = preprocess(tst)\n",
    "df = preprocess(data)"
   ]
  },
  {
   "cell_type": "code",
   "execution_count": 233,
   "id": "6a42be2c-3cb4-4b62-8547-6c2a7c5cfdf8",
   "metadata": {},
   "outputs": [
    {
     "data": {
      "text/html": [
       "<div>\n",
       "<style scoped>\n",
       "    .dataframe tbody tr th:only-of-type {\n",
       "        vertical-align: middle;\n",
       "    }\n",
       "\n",
       "    .dataframe tbody tr th {\n",
       "        vertical-align: top;\n",
       "    }\n",
       "\n",
       "    .dataframe thead th {\n",
       "        text-align: right;\n",
       "    }\n",
       "</style>\n",
       "<table border=\"1\" class=\"dataframe\">\n",
       "  <thead>\n",
       "    <tr style=\"text-align: right;\">\n",
       "      <th></th>\n",
       "      <th>dir</th>\n",
       "      <th>num</th>\n",
       "    </tr>\n",
       "  </thead>\n",
       "  <tbody>\n",
       "    <tr>\n",
       "      <th>0</th>\n",
       "      <td>forward</td>\n",
       "      <td>2</td>\n",
       "    </tr>\n",
       "    <tr>\n",
       "      <th>1</th>\n",
       "      <td>down</td>\n",
       "      <td>4</td>\n",
       "    </tr>\n",
       "    <tr>\n",
       "      <th>2</th>\n",
       "      <td>down</td>\n",
       "      <td>1</td>\n",
       "    </tr>\n",
       "    <tr>\n",
       "      <th>3</th>\n",
       "      <td>down</td>\n",
       "      <td>4</td>\n",
       "    </tr>\n",
       "    <tr>\n",
       "      <th>4</th>\n",
       "      <td>forward</td>\n",
       "      <td>3</td>\n",
       "    </tr>\n",
       "  </tbody>\n",
       "</table>\n",
       "</div>"
      ],
      "text/plain": [
       "       dir  num\n",
       "0  forward    2\n",
       "1     down    4\n",
       "2     down    1\n",
       "3     down    4\n",
       "4  forward    3"
      ]
     },
     "execution_count": 233,
     "metadata": {},
     "output_type": "execute_result"
    }
   ],
   "source": [
    "df.head()"
   ]
  },
  {
   "cell_type": "code",
   "execution_count": 234,
   "id": "a01a9c9a-6fe7-4d0c-8f56-b57885068f7f",
   "metadata": {},
   "outputs": [],
   "source": [
    "# make indices\n",
    "down = df['dir']=='down'\n",
    "up = df['dir']=='up'\n",
    "fwd = df['dir']=='forward'\n",
    "\n",
    "# calculate aim\n",
    "df['delta_aim'] = df.num\n",
    "df.loc[up,'delta_aim'] = df.loc[up,'delta_aim'] * -1\n",
    "df.loc[fwd,'delta_aim'] = 0\n",
    "df['aim'] = df.delta_aim.cumsum()\n",
    "\n",
    "# calculate horizontal\n",
    "df['delta_horizontal'] = df.num\n",
    "df.loc[~fwd,'delta_horizontal'] = 0\n",
    "df['horizontal'] = df.delta_horizontal.cumsum()\n",
    "\n",
    "# calculate depth\n",
    "df['delta_depth'] = df.num * df.aim\n",
    "df.loc[~fwd,'delta_depth'] = 0\n",
    "df['depth'] = df.delta_depth.cumsum()"
   ]
  },
  {
   "cell_type": "code",
   "execution_count": 235,
   "id": "04be1dde-7735-4d74-ac14-9fd7a594d9b3",
   "metadata": {},
   "outputs": [
    {
     "data": {
      "text/plain": [
       "1971095320"
      ]
     },
     "execution_count": 235,
     "metadata": {},
     "output_type": "execute_result"
    }
   ],
   "source": [
    "solution = int((df['horizontal'] * df['depth']).tail(1))\n",
    "solution"
   ]
  },
  {
   "cell_type": "code",
   "execution_count": null,
   "id": "e742bd9e-10bb-4b63-b2f7-1a1fcdf0542d",
   "metadata": {},
   "outputs": [],
   "source": []
  }
 ],
 "metadata": {
  "kernelspec": {
   "display_name": "Python 3",
   "language": "python",
   "name": "python3"
  },
  "language_info": {
   "codemirror_mode": {
    "name": "ipython",
    "version": 3
   },
   "file_extension": ".py",
   "mimetype": "text/x-python",
   "name": "python",
   "nbconvert_exporter": "python",
   "pygments_lexer": "ipython3",
   "version": "3.8.8"
  }
 },
 "nbformat": 4,
 "nbformat_minor": 5
}
