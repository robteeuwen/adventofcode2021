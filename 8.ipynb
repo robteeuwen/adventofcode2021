{
 "cells": [
  {
   "cell_type": "code",
   "execution_count": 1,
   "id": "d72c2133-fcec-4e80-bf03-4c494cbbd970",
   "metadata": {},
   "outputs": [],
   "source": [
    "import numpy as np\n",
    "from aocd.models import Puzzle\n",
    "puzzle = Puzzle(year=2021, day=8)"
   ]
  },
  {
   "cell_type": "code",
   "execution_count": 60,
   "id": "f5833590-1e64-4595-8902-0ab3a6a4442a",
   "metadata": {},
   "outputs": [],
   "source": [
    "data = puzzle.input_data\n",
    "tst = 'be cfbegad cbdgef fgaecd cgeb fdcge agebfd fecdb fabcd edb | fdgacbe cefdb cefbgd gcbe\\nedbfga begcd cbg gc gcadebf fbgde acbgfd abcde gfcbed gfec | fcgedb cgb dgebacf gc\\nfgaebd cg bdaec gdafb agbcfd gdcbef bgcad gfac gcb cdgabef | cg cg fdcagb cbg\\nfbegcd cbd adcefb dageb afcb bc aefdc ecdab fgdeca fcdbega | efabcd cedba gadfec cb\\naecbfdg fbg gf bafeg dbefa fcge gcbea fcaegb dgceab fcbdga | gecf egdcabf bgf bfgea\\nfgeab ca afcebg bdacfeg cfaedg gcfdb baec bfadeg bafgc acf | gebdcfa ecba ca fadegcb\\ndbcfg fgd bdegcaf fgec aegbdf ecdfab fbedc dacgb gdcebf gf | cefg dcbef fcge gbcadfe\\nbdfegc cbegaf gecbf dfcage bdacg ed bedf ced adcbefg gebcd | ed bcgafe cdgba cbgef\\negadfb cdbfeg cegd fecab cgb gbdefca cg fgcdab egfdb bfceg | gbdfcae bgc cg cgb\\ngcafb gcf dcaebfg ecagb gf abcdeg gaef cafbge fdbac fegbdc | fgae cfgab fg bagce'"
   ]
  },
  {
   "cell_type": "code",
   "execution_count": 324,
   "id": "f73eeae4-f08f-4b02-9c36-7e7f64960091",
   "metadata": {},
   "outputs": [],
   "source": [
    "inp = data"
   ]
  },
  {
   "cell_type": "code",
   "execution_count": 325,
   "id": "e900cee1-b3ea-47a2-9521-4680d5eadcec",
   "metadata": {},
   "outputs": [],
   "source": [
    "lines = [line.split(' | ') for line in inp.split('\\n')]"
   ]
  },
  {
   "cell_type": "code",
   "execution_count": 326,
   "id": "22d25e05-ded1-4e91-b17e-bb0389727efa",
   "metadata": {},
   "outputs": [],
   "source": [
    "invals = [line[0] for line in lines]\n",
    "outvals = [line[1] for line in lines]\n",
    "invals = np.array([line.split(' ') for line in invals])\n",
    "outvals = np.array([line.split(' ') for line in outvals])"
   ]
  },
  {
   "cell_type": "code",
   "execution_count": 327,
   "id": "7708d6de-b7a1-4a8e-a3ab-8a4d0dfb2d58",
   "metadata": {},
   "outputs": [],
   "source": [
    "getl = np.vectorize(len)"
   ]
  },
  {
   "cell_type": "code",
   "execution_count": 328,
   "id": "151bdec5-3db6-4988-a0a5-092ff72797f6",
   "metadata": {},
   "outputs": [],
   "source": [
    "outlen = getl(outvals)"
   ]
  },
  {
   "cell_type": "code",
   "execution_count": 329,
   "id": "74453683-d203-4fa6-b248-85839f0dc12d",
   "metadata": {},
   "outputs": [
    {
     "data": {
      "text/plain": [
       "301"
      ]
     },
     "execution_count": 329,
     "metadata": {},
     "output_type": "execute_result"
    }
   ],
   "source": [
    "np.sum((outlen == 2) | (outlen == 4) | (outlen == 7) | (outlen == 3))"
   ]
  },
  {
   "cell_type": "code",
   "execution_count": 340,
   "id": "55385f77-754f-4051-a9ed-23eaea530b18",
   "metadata": {},
   "outputs": [],
   "source": [
    "# second part\n",
    "# 0 has  6\n",
    "# 1 has 2\n",
    "# 2 has   5\n",
    "# 3 has   5\n",
    "# 4 has 4\n",
    "# 5 has   5\n",
    "# 6 has  6\n",
    "# 7 has 3\n",
    "# 8 has 7\n",
    "# 9 has  6"
   ]
  },
  {
   "cell_type": "code",
   "execution_count": 341,
   "id": "006ea878-ed95-4a09-8c83-2c64b65bbc59",
   "metadata": {},
   "outputs": [],
   "source": [
    "def findnums(ins):\n",
    "    inlen = getl(ins)\n",
    "    newnums = [''] * 10\n",
    "    \n",
    "    # find 1 representation, two segment on the right\n",
    "    newnums[1] = ins[np.where(inlen==2)][0]\n",
    "    newnums[4] = ins[np.where(inlen==4)][0]\n",
    "    newnums[7] = ins[np.where(inlen==3)][0]\n",
    "    newnums[8] = ins[np.where(inlen==7)][0]\n",
    "\n",
    "    # six long\n",
    "    sixlong = ins[inlen==6]\n",
    "\n",
    "    # contains 1 \n",
    "    c1 = [len(set(i).intersection(set(newnums[1])))==len(newnums[1]) for i in sixlong]\n",
    "\n",
    "    # not contains 4\n",
    "    c2 = [not(len(set(i).intersection(set(newnums[4])))==len(newnums[4])) for i in sixlong]\n",
    "\n",
    "    # contains 7\n",
    "    c3 = [len(set(i).intersection(set(newnums[7])))==len(newnums[7]) for i in sixlong]\n",
    "\n",
    "    zero_ix = [a and b for a, b in zip(c1, c2)]\n",
    "    newnums[0] = sixlong[zero_ix][0]\n",
    "\n",
    "    sixlong = np.delete(sixlong,zero_ix)\n",
    "    c3 = np.delete(c3,zero_ix)\n",
    "    newnums[9] = sixlong[c3][0]\n",
    "    newnums[6] = sixlong[c3==False][0]\n",
    "    \n",
    "    # five long \n",
    "    # find 3 \n",
    "    # 3 is 5 long, contains 1\n",
    "    fivelong = ins[inlen==5]\n",
    "\n",
    "    # contains 1 \n",
    "    c1 = [len(set(i).intersection(set(newnums[1])))==len(newnums[1]) for i in fivelong]\n",
    "    newnums[3] = fivelong[c1][0]\n",
    "\n",
    "    # 5 is contained by 9\n",
    "    fivelong = np.delete(fivelong,c1)\n",
    "    c2 = np.array([len(set(i).intersection(set(newnums[9])))==len(i) for i in fivelong])\n",
    "    newnums[5] = fivelong[c2][0]\n",
    "    newnums[2] = fivelong[c2==False][0]\n",
    "    \n",
    "    return newnums"
   ]
  },
  {
   "cell_type": "code",
   "execution_count": 342,
   "id": "2d5b4608-b7f1-4ad9-889f-6793101d5ab3",
   "metadata": {},
   "outputs": [],
   "source": [
    "def one_output(q,nums): \n",
    "    return str(np.where([sorted(q) == sorted(n) for n in nums])[0][0])"
   ]
  },
  {
   "cell_type": "code",
   "execution_count": 343,
   "id": "10f8ed92-e59a-428c-b0a9-956701e96b3e",
   "metadata": {},
   "outputs": [],
   "source": [
    "def row_output(row_out,row_in):\n",
    "    nums = findnums(row_in)\n",
    "    return int(('').join([one_output(i,nums) for i in row_out]))"
   ]
  },
  {
   "cell_type": "code",
   "execution_count": 344,
   "id": "e9b0b294-0409-4041-bd4b-f14255c286d3",
   "metadata": {},
   "outputs": [],
   "source": [
    "n = []\n",
    "for i in range(len(outvals)):\n",
    "    n.append(row_output(outvals[i],invals[i]))"
   ]
  },
  {
   "cell_type": "code",
   "execution_count": 345,
   "id": "007e53ff-854e-4748-bc7a-e9b30ee4768a",
   "metadata": {},
   "outputs": [
    {
     "data": {
      "text/plain": [
       "908067"
      ]
     },
     "execution_count": 345,
     "metadata": {},
     "output_type": "execute_result"
    }
   ],
   "source": [
    "np.sum(n)"
   ]
  },
  {
   "cell_type": "code",
   "execution_count": null,
   "id": "1c7e4ea2-323d-40c4-a87e-f52e768d648b",
   "metadata": {},
   "outputs": [],
   "source": []
  },
  {
   "cell_type": "code",
   "execution_count": null,
   "id": "29a80d5b-dd0a-4894-b549-0e88f39f04c6",
   "metadata": {},
   "outputs": [],
   "source": []
  },
  {
   "cell_type": "code",
   "execution_count": null,
   "id": "4d32b19b-9b43-468a-ac74-43f696042efb",
   "metadata": {},
   "outputs": [],
   "source": []
  }
 ],
 "metadata": {
  "kernelspec": {
   "display_name": "Python 3",
   "language": "python",
   "name": "python3"
  },
  "language_info": {
   "codemirror_mode": {
    "name": "ipython",
    "version": 3
   },
   "file_extension": ".py",
   "mimetype": "text/x-python",
   "name": "python",
   "nbconvert_exporter": "python",
   "pygments_lexer": "ipython3",
   "version": "3.8.8"
  }
 },
 "nbformat": 4,
 "nbformat_minor": 5
}
