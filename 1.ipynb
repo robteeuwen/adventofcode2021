{
 "cells": [
  {
   "cell_type": "code",
   "execution_count": 1,
   "id": "80ba9495-6a52-44ae-949d-2fd3b5f31862",
   "metadata": {},
   "outputs": [],
   "source": [
    "import aocd\n",
    "import os\n",
    "import numpy as np"
   ]
  },
  {
   "cell_type": "code",
   "execution_count": 2,
   "id": "fdf2fddd-beb6-4586-9d27-397438180bc5",
   "metadata": {},
   "outputs": [],
   "source": [
    "from aocd.models import Puzzle"
   ]
  },
  {
   "cell_type": "code",
   "execution_count": 3,
   "id": "ba63b0d7-5065-4af7-b89b-e87bf0f26c26",
   "metadata": {},
   "outputs": [],
   "source": [
    "# export AOC_SESSION first\n",
    "puzzle = Puzzle(year=2021, day=1)"
   ]
  },
  {
   "cell_type": "code",
   "execution_count": 13,
   "id": "78709ade-277f-425b-9375-381fc461b890",
   "metadata": {},
   "outputs": [],
   "source": [
    "# extract the data by splitting at line breaks and casting as int\n",
    "data = np.array(puzzle.input_data.split('\\n')).astype(int)"
   ]
  },
  {
   "cell_type": "code",
   "execution_count": 34,
   "id": "1e50b048-d19f-4f99-a895-b97f907a070b",
   "metadata": {},
   "outputs": [
    {
     "data": {
      "text/plain": [
       "1557"
      ]
     },
     "execution_count": 34,
     "metadata": {},
     "output_type": "execute_result"
    }
   ],
   "source": [
    "d = np.diff(data)\n",
    "np.sum(d > 0)"
   ]
  },
  {
   "cell_type": "code",
   "execution_count": 35,
   "id": "77fdbbc6-2130-4bbe-8b97-430c0780bb75",
   "metadata": {},
   "outputs": [],
   "source": [
    "# second question is essentially a convolution or a low pass filter\n",
    "kernel = [1, 1, 1]\n",
    "c = np.convolve(data,kernel,'valid')"
   ]
  },
  {
   "cell_type": "code",
   "execution_count": 36,
   "id": "1348b85d-3c7a-427b-8c0f-1603823132d6",
   "metadata": {},
   "outputs": [
    {
     "data": {
      "text/plain": [
       "1608"
      ]
     },
     "execution_count": 36,
     "metadata": {},
     "output_type": "execute_result"
    }
   ],
   "source": [
    "# get the difference, same as before\n",
    "d2 = np.diff(c)\n",
    "np.sum(d2 > 0)"
   ]
  }
 ],
 "metadata": {
  "kernelspec": {
   "display_name": "Python 3",
   "language": "python",
   "name": "python3"
  },
  "language_info": {
   "codemirror_mode": {
    "name": "ipython",
    "version": 3
   },
   "file_extension": ".py",
   "mimetype": "text/x-python",
   "name": "python",
   "nbconvert_exporter": "python",
   "pygments_lexer": "ipython3",
   "version": "3.8.8"
  }
 },
 "nbformat": 4,
 "nbformat_minor": 5
}
