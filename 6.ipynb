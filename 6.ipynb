{
 "cells": [
  {
   "cell_type": "code",
   "execution_count": 1,
   "id": "2794cc1a-b1b1-4da9-8b24-7d19cb930584",
   "metadata": {},
   "outputs": [],
   "source": [
    "import numpy as np\n",
    "from aocd.models import Puzzle\n",
    "puzzle = Puzzle(year=2021, day=6)"
   ]
  },
  {
   "cell_type": "code",
   "execution_count": 2,
   "id": "a098d844-6fb2-40e7-a17e-2a039802e753",
   "metadata": {},
   "outputs": [],
   "source": [
    "data = np.array(puzzle.input_data.split(',')).astype(int)"
   ]
  },
  {
   "cell_type": "code",
   "execution_count": 6,
   "id": "4482c9a9-a0f0-4aa2-b5d7-dad3ffcd19b0",
   "metadata": {},
   "outputs": [],
   "source": [
    "# for each possible counter value, count the number of fish that have that value\n",
    "counters = [np.sum(data==i) for i in range(0,9)]"
   ]
  },
  {
   "cell_type": "code",
   "execution_count": 9,
   "id": "ee70162d-a7aa-41b2-97e7-994085b85369",
   "metadata": {},
   "outputs": [],
   "source": [
    "def do_day(counters):\n",
    "    # the number of new fish that need to be spawned is the number of fish that have 0\n",
    "    # this is also the number that needs to be added to 6 \n",
    "    newfish = counters[0]\n",
    "    \n",
    "    # count all counters down (move left), add newfish, and reset fish\n",
    "    counters_ = np.append(counters[1:],0)\n",
    "    counters_[6] = counters_[6] + newfish \n",
    "    counters_[8] = newfish\n",
    "    \n",
    "    return counters_"
   ]
  },
  {
   "cell_type": "code",
   "execution_count": 10,
   "id": "bad45be3-1df4-467b-951b-86dcc576026c",
   "metadata": {},
   "outputs": [],
   "source": [
    "def get_fish_after(counters,days):\n",
    "    for d in range(days): \n",
    "        counters = do_day(counters)\n",
    "\n",
    "    return np.sum(counters)"
   ]
  },
  {
   "cell_type": "code",
   "execution_count": 11,
   "id": "151046c0-c876-4414-a52d-994bd26d3a80",
   "metadata": {},
   "outputs": [
    {
     "data": {
      "text/plain": [
       "359999"
      ]
     },
     "execution_count": 11,
     "metadata": {},
     "output_type": "execute_result"
    }
   ],
   "source": [
    "get_fish_after(counters,80)"
   ]
  },
  {
   "cell_type": "code",
   "execution_count": 12,
   "id": "4db2d231-35a5-4130-93c8-749159e1799d",
   "metadata": {},
   "outputs": [
    {
     "data": {
      "text/plain": [
       "1631647919273"
      ]
     },
     "execution_count": 12,
     "metadata": {},
     "output_type": "execute_result"
    }
   ],
   "source": [
    "get_fish_after(counters,256)"
   ]
  },
  {
   "cell_type": "code",
   "execution_count": null,
   "id": "31be89fd-937b-400c-98bc-fba716de46bd",
   "metadata": {},
   "outputs": [],
   "source": []
  }
 ],
 "metadata": {
  "kernelspec": {
   "display_name": "Python 3",
   "language": "python",
   "name": "python3"
  },
  "language_info": {
   "codemirror_mode": {
    "name": "ipython",
    "version": 3
   },
   "file_extension": ".py",
   "mimetype": "text/x-python",
   "name": "python",
   "nbconvert_exporter": "python",
   "pygments_lexer": "ipython3",
   "version": "3.8.8"
  }
 },
 "nbformat": 4,
 "nbformat_minor": 5
}
